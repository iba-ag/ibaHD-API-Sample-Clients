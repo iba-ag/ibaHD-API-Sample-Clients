{
 "cells": [
  {
   "cell_type": "markdown",
   "metadata": {},
   "source": [
    "# Tutorial for ibahd-api Python package\n",
    "\n",
    "1. Introduction\n",
    "2. Setup\n",
    "    - 2.1 Activate ibaHD-API\n",
    "    - 2.2 Setting up the example HD store\n",
    "    - 2.3 Installation of the ibahd-api Python package\n",
    "    - 2.4 Test for successfull installation\n",
    "3. Application of time_periods\n",
    "    - 3.1 Parametrization for connection with ibaHD-Server\n",
    "    - 3.2 Create sample client and display available HD stores\n",
    "        - 3.2.1 Initialization of ibaHD-API client\n",
    "        - 3.2.2 Exemplified function calls"
   ]
  },
  {
   "cell_type": "markdown",
   "metadata": {},
   "source": [
    "## 1. Introduction\n",
    "In the first part of this tutorial, the user gets introduced to the ibaHD-API in general. Then, this notebook exemplifies the functions of the ibahd-api Python package which can be used to get process data from an ibaHD-Server into a Python script. Some helper functions were added for better and easier usability.\n",
    "\n",
    "### gRPC Fundamentals\n",
    "ibaHD-API uses the modern open source framework gRPC (Google Remote Procedure Call). On their website the following [overview](https://grpc.io/docs/what-is-grpc/introduction/#overview) is provided to show its basic functionality:\n",
    "\n",
    "<p align=\"left\"> <img width=500 style=\"padding-left: 100px\" src=\"../assets/gRPC_server_client.svg\"> </p>\n",
    "\n",
    "gRPC is based on the definition of a service and remotely callable methods including their parameters and return types. The server side (the ibaHD-Server in our case) implements the interface and runs a gRPC server to handle client calls. The client side runs a stub (also referred as client) that provides the same methods as the server.\n",
    "\n",
    "gRPC uses ProtoBuf (Protocol Buffers, *.proto* extension) for serializing structured data like different request and response messages. After defining a proto file the ProtoBuf compiler *protoc* is used to generate data access classes in the desired language. These classes are utilized in the application to populate, serialize and retrive the sent messages. More information on Protocol Buffers can be found at [ProtoBuf](https://protobuf.dev/overview/).\n",
    "\n",
    "A [Quick Start Guide](https://grpc.io/docs/languages/python/quickstart/) for combining Python and gRPC as well as an [Introduction Tutorial](https://grpc.io/docs/languages/python/basics/) are provided online.\n",
    "\n",
    "### Nomenclature\n",
    "- ibaHD-API refers to the gRPC based API which comes with the ibaHD-Server.\n",
    "- ibahd-api (Python package) refers to this Python package which simplifies the functionality of the ibaHD-API and extends it by useful helper functions."
   ]
  },
  {
   "cell_type": "markdown",
   "metadata": {},
   "source": [
    "## 2. Setup\n",
    "\n",
    "### 2.1 Activate ibaHD-API\n",
    "First, the API needs to be activated by following the corresponding [Quick Start Guide](https://github.com/iba-ag/ibaHD-API-Sample-Clients?tab=readme-ov-file#quick-start).\n",
    "\n",
    "### 2.2 Setting up the example HD store\n",
    "An example HD store backup (*ibahd-api_Backup*) for running this Jupyter Notebook can be found on [GitHub](https://github.com/iba-ag/ibaHD-API-Sample-Clients/tree/master/python). Follow the given steps below to mount this small example HD store in your ibaHD Manager:\n",
    "1. Unzip the backup file.\n",
    "2. Make sure to have ibaHD-Server with a sufficient version installed (see `Changelog.md` for compatibility overview).\n",
    "3. Start ibaHD Manager and navigate to *Backup -> Mount -> Mount backups...*\n",
    "4. Select the path of the folder where the unzipped backup HD store is located in (e.g. C:/Users/.../Downloads/).\n",
    "5. Click Search.\n",
    "7. Activate check-box 'Mount' and click *Next* and *OK* in the end. It is not necessary to change any other configuration.\n",
    "\n",
    "The HD store should be listed in the table of \"Mounted backups\" under *Backups* now. Use its Name (*ibahd-api\\_Backup*) in this notebook whenever the variable *hd\\_store\\_name* needs to be set.\n",
    "\n",
    "### 2.3 Installation of the ibahd-api Python package\n",
    "First of all, a Python environment needs to be created. It is recommended to use conda, however, feel free to use whatever environment you are used to (e.g. venv). Make sure to use a stable Python version<sup>1</sup> as a base.\n",
    "\n",
    "To run this Jupyter Notebook, install the ibahd-api Python package with one of the following commands using the Python package installer `pip`. All necessary dependencies will be installed automatically.\n",
    "```sh\n",
    "> python -m pip install ibahd-api[tutorial]\n",
    "```\n",
    "or\n",
    "```sh\n",
    "> pip install ibahd-api[tutorial]\n",
    "```\n",
    "\n",
    "<sup>1</sup>: See [status of Python versions](https://devguide.python.org/versions/#supported-versions) for a list of supported versions.\n",
    "\n",
    "### 2.4 Test for successfull installation\n",
    "If the package installation was successfull you should be able to run the following code cell without getting any error message."
   ]
  },
  {
   "cell_type": "code",
   "execution_count": null,
   "metadata": {},
   "outputs": [],
   "source": [
    "import grpc  # for configuration of gRPC parameters when initializing the client\n",
    "from pathlib import Path  # use for paths to avoid issues with different separators on Windows and Linux \n",
    "from ibahd_api import utils  # import the helper functions which extend the ibaHD-API functions\n",
    "from ibahd_api import ibahd_api_pb2  # import the functions infered from ProtoBuf, contains request and response formats\n",
    "from ibahd_api import ibahd_api_pb2_grpc  # import the basic functions of the ibahd-api Python package, contains the function calls to the ibaHD-Server"
   ]
  },
  {
   "cell_type": "markdown",
   "metadata": {},
   "source": [
    "## 3. Application of the ibahd-api Python package\n",
    "This chapter demonstrates the basic functions of the API paradigmatic on the provided example HD store. A proper parametrization enables the creation of a sample client which is connected with an ibaHD-Server. In addition, some commonly used functions are explained in more detail.\n",
    "\n",
    "### 3.1 Parametrization for connection with ibaHD-Server\n",
    "At the beginning, the ibaHD-Server connection parameters need to be set properly. For the parametrization two different ways are possible:\n",
    "1. Use the \\'quick connect\\' information retrieved from ibaHD Manager to set the parameters easier.\n",
    "    - In ibaHD Manager: *ibaHD-API -> Get API key... -> Copy quick connect info to clipboard*\n",
    "    <p align=\"left\"> <img width=600 style=\"padding-left: 100px\" src=\"../assets/get_quick_connect.png\"> </p>\n",
    "2. Advanced: Set the connection parameters manually. The created certificate (see [Quick Start Guide](https://github.com/iba-ag/ibaHD-API-Sample-Clients?tab=readme-ov-file#quick-start)) needs to be stored locally and only its path is used here.\n",
    "    - Reminder: The certificate needs to be stored in *.pem* format.\n",
    "\n",
    "It is strongly recommended to use the first option, given its simplicity. However, both ways result in the exact same parametrization.   \n",
    "After setting the connection parameters for the first time, you only need to change it when accessing an ibaHD-Server on a different computer. No adjustments are needed for multiple HD stores on the same computer."
   ]
  },
  {
   "cell_type": "code",
   "execution_count": null,
   "metadata": {},
   "outputs": [],
   "source": [
    "# Option 1: use 'quick connect info' to retrieve all necessary parameters at once\n",
    "from ibahd_api import utils\n",
    "\n",
    "quick_connect = Quick_Connect  # TODO: insert your copied 'quick connect info' here...\n",
    "\n",
    "# Extract needed parameters from quick connect information\n",
    "certificate, api_key, hostname, port = utils.get_api_params(quick_connect)"
   ]
  },
  {
   "cell_type": "code",
   "execution_count": null,
   "metadata": {},
   "outputs": [],
   "source": [
    "# Option 2 (advanced): set parameters manually\n",
    "path_certificate = Path(r'C:/Users/<your_username>/.../certificate_file.pem')  # path to local stored server TLS certificate file (.pem format)  # USER_TASK\n",
    "certificate = open(path_certificate, 'rb').read()  # read exported (PEM formatted) server TLS certificate from disk\n",
    "api_key = 'your_api_key'  # USER_TASK\n",
    "hostname = 'name_of_your_server'  # USER_TASK\n",
    "port = 9003  # usually no change required (default: 9003)  # USER_TASK"
   ]
  },
  {
   "cell_type": "markdown",
   "metadata": {},
   "source": [
    "### 3.2 Functions of the ibaHD-API\n",
    "This chapter shows the practical usage of the ibahd-api Python package and the ibaHD-API functions.\n",
    "First, a gRPC client is created to access a HD store. Then, some commonly used functions are used for demonstration purposes. \n",
    "\n",
    "#### 3.2.1 Initialization of ibaHD-API client\n",
    "Creates a gRPC client by using the previously set connection parameters. Again there are two ways to create the client:\n",
    "1. Use the helper function provided by the Python package. This is recommended as usually no changes to the option parameters are required.\n",
    "2. Advanced: Parametrize and create the client manually, which allows the customization of the channel options (if desired)."
   ]
  },
  {
   "cell_type": "code",
   "execution_count": null,
   "metadata": {},
   "outputs": [],
   "source": [
    "# Option 1: use the provided helper function to create a gRPC client\n",
    "from ibahd_api import utils\n",
    "\n",
    "client = utils.create_client(certificate, api_key, hostname, port)"
   ]
  },
  {
   "cell_type": "code",
   "execution_count": null,
   "metadata": {},
   "outputs": [],
   "source": [
    "# Option 2 (advanced): parametrize and create the gRPC client manually, add/adjust channel options if desired\n",
    "import grpc\n",
    "from ibahd_api import utils\n",
    "\n",
    "# Combine certificate and api_key to full credentials used for authentification\n",
    "tls_credentials = grpc.ssl_channel_credentials(certificate)\n",
    "api_key_credentials  = grpc.metadata_call_credentials(utils.ApiKeyCallCredentials(api_key))  # apply api_key to every request made by the client\n",
    "combined_credentials = grpc.composite_channel_credentials(tls_credentials, api_key_credentials)\n",
    "\n",
    "# gRPC channel setup to connect to ibaHD-API endpoint in ibaHD-Server\n",
    "endpoint = f'{hostname}:{port}'\n",
    "options = [('grpc.max_receive_message_length', 2147483647)]  # increasing default message size (~4MB) recommended (c int32 max = 2147483647)\n",
    "\n",
    "# Open gRPC channel with previous defined server\n",
    "channel = grpc.secure_channel(endpoint, combined_credentials, options=options)\n",
    "\n",
    "# Instantiate ibaHD-API client on the gRPC channel\n",
    "client = ibahd_api_pb2_grpc.HdApiServiceStub(channel)"
   ]
  },
  {
   "cell_type": "markdown",
   "metadata": {},
   "source": [
    "#### 3.2.2 Exemplified function calls\n",
    "This section contains one code cell for each function of the ibaHD-API. Usually, the cells are divided into the following three parts:\n",
    "- Parametrization\n",
    "- API call\n",
    "- Visualization\n",
    "\n",
    "Descriptions of the function parameters, their types, and function outputs can be found in the proto-File<sup>1</sup> and the *ibaHD Server API* manual<sup>2</sup>.\n",
    "   \n",
    "<sup>1</sup>: By default stored at `C:\\Program Files\\iba\\ibaHD-Server\\ibaHD-API\\ibaHD-API.proto`.   \n",
    "<sup>2</sup>: Can be downloaded from the [homepage](https://www.iba-ag.com/de/downloads) -> Search for 'API' (Login necessary)\n",
    "\n",
    "##### GetHDStores\n",
    "Retrieve available HD stores from the connected ibaHD-Server. The provided HD store backup should be displayed in the list as well."
   ]
  },
  {
   "cell_type": "code",
   "execution_count": null,
   "metadata": {},
   "outputs": [],
   "source": [
    "# API call\n",
    "request = ibahd_api_pb2.GetHdStoresRequest()\n",
    "response = client.GetHdStores(request)\n",
    "\n",
    "# Visualization\n",
    "print(response)"
   ]
  },
  {
   "cell_type": "markdown",
   "metadata": {},
   "source": [
    "##### GetHdStoreSchema\n",
    "Retrieve the channel hierarchy for the provided HD store backup."
   ]
  },
  {
   "cell_type": "code",
   "execution_count": null,
   "metadata": {},
   "outputs": [],
   "source": [
    "# Parametrization\n",
    "hd_store_name = 'ibahd-api_Backup'  # HD store for getting channel information\n",
    "sort_by = 1  # 1: sort by module\n",
    "info_fields = True  # if optional info fields for time or event channels should be requested\n",
    "\n",
    "# API call\n",
    "request = ibahd_api_pb2.GetHdStoreSchemaRequest(hd_store_name=hd_store_name,\n",
    "                                                sort_by=sort_by,\n",
    "                                                info_fields=info_fields)\n",
    "response = client.GetHdStoreSchema(request)\n",
    "\n",
    "# Visualization\n",
    "print(response)"
   ]
  },
  {
   "cell_type": "markdown",
   "metadata": {},
   "source": [
    "##### GetRawChannelData\n",
    "Get raw data from the defined channel(s) in the defined time range. The retrieved data is plotted afterwards (data from n messages concatenated).\n",
    "\n",
    "**Notes:**   \n",
    "- The module utils contains some useful helper functions for converting between unix timestamps, datetime representations (strings), and C#/.NET ticks.\n",
    "- The timestamps used by the ibaHD-API are on microsecond level, so it is necessary to multiply the unix timestamps with 1e6.\n",
    "- Set datetimes and timestamps with **UTC timezone**."
   ]
  },
  {
   "cell_type": "code",
   "execution_count": null,
   "metadata": {},
   "outputs": [],
   "source": [
    "import matplotlib.pyplot as plt\n",
    "# Helper functions to convert datetime string into unix timestamp (float) and vice versa\n",
    "from ibahd_api.utils import convert_datetime_to_timestamp, convert_timestamp_to_datetime\n",
    "\n",
    "# Parametrization\n",
    "time_range_from = convert_datetime_to_timestamp('2025-7-2 15:30:0.0')  # start point in time for data retrieval (UNIX time in ms)\n",
    "time_range_to = convert_datetime_to_timestamp('2025-7-2 15:45:0.0')  # end point in time for data retrieval (UNIX time in ms)\n",
    "channel_ids = ['ibahd-api_Backup\\\\[0:0]']  # channel to retrieve data from\n",
    "max_sample_count_per_message = 50  # number of datapoints per message\n",
    "add_extra_sample_out_of_time_range = False  # get optional extra sample before and after time range\n",
    "\n",
    "# API call\n",
    "request = ibahd_api_pb2.GetRawChannelDataRequest(time_range_from=int(time_range_from*1e6),\n",
    "                                                 time_range_to=int(time_range_to*1e6),\n",
    "                                                 channel_ids=channel_ids,\n",
    "                                                 max_sample_count_per_message=max_sample_count_per_message,\n",
    "                                                 add_extra_sample_out_of_time_range=add_extra_sample_out_of_time_range)\n",
    "response = client.GetRawChannelData(request)\n",
    "\n",
    "# Visualization\n",
    "nMessages = None  # how many data messages should be processed (set low for a test run)\n",
    "nLabel = 20  # how many datetime labels should be displayed on the x axis\n",
    "data = []\n",
    "xticks, xlabel = [0], []\n",
    "\n",
    "for i, chunk in enumerate(response):\n",
    "    if nMessages and i == nMessages: break\n",
    "    if i==0: xlabel.append(convert_timestamp_to_datetime(chunk.start_timestamp/1e6)[:-8])\n",
    "    xticks.append(xticks[-1] + len(chunk.float_values))\n",
    "    xlabel.append(convert_timestamp_to_datetime(chunk.start_timestamp/1e6 + chunk.step/1e6 * len(chunk.float_values))[:-8])\n",
    "    data.extend(chunk.float_values)  # put data packages back together\n",
    "xticks = xticks[::max(1,len(xticks)//nLabel)]  # show only some of the time points\n",
    "xlabel = xlabel[::max(1,len(xlabel)//nLabel)]  # show only some of the time points\n",
    "plt.figure(figsize=(22,2))\n",
    "plt.plot(data)\n",
    "plt.xticks(xticks, xlabel, rotation=90)\n",
    "plt.show()\n",
    "plt.close()"
   ]
  },
  {
   "cell_type": "markdown",
   "metadata": {},
   "source": [
    "##### GetAggregatedChannelData\n",
    "Get aggregated data from the defined channel(s) in the defined time range by applying the defined aggregation types."
   ]
  },
  {
   "cell_type": "code",
   "execution_count": null,
   "metadata": {},
   "outputs": [],
   "source": [
    "import matplotlib.pyplot as plt\n",
    "# Helper functions to convert datetime string into unix timestamp (float) and vice versa\n",
    "from ibahd_api.utils import convert_datetime_to_timestamp, convert_timestamp_to_datetime\n",
    "\n",
    "# Parametrization\n",
    "time_range_from = convert_datetime_to_timestamp('2025-7-2 15:30:0.0')  # start point in time for aggregated data retrieval (UNIX time in ms)\n",
    "time_range_to = convert_datetime_to_timestamp('2025-7-2 15:45:0.0')  # end point in time for aggregated data retrieval (UNIX time in ms)\n",
    "channel_ids = ['ibahd-api_Backup\\\\[0:0]']  # channel to retrieve aggregated data from\n",
    "sample_count = 100  # how many datapoints should be retrieved (after aggregation) (set low for a test run)\n",
    "min_aggregation, max_aggregation, avg_aggregation = True, True, True  # which aggregation types should be applied (multiple possible)\n",
    "aggregation_algorithm_type = ibahd_api_pb2.AGGR_ALGO_TYPE_LINEAR_INTERPOLATION_DOWNSAMPLING  # which interpolation algorithm should be used\n",
    "add_extra_sample_out_of_time_range = False\n",
    "\n",
    "# API call\n",
    "request = ibahd_api_pb2.GetAggregatedChannelDataRequest(time_range_from=int(time_range_from*1e6),\n",
    "                                                        time_range_to=int(time_range_to*1e6),\n",
    "                                                        channel_ids=channel_ids,\n",
    "                                                        sample_count=sample_count,\n",
    "                                                        min_aggregation=min_aggregation,\n",
    "                                                        max_aggregation=max_aggregation,\n",
    "                                                        avg_aggregation=avg_aggregation,\n",
    "                                                        aggregation_algorithm_type=aggregation_algorithm_type,\n",
    "                                                        add_extra_sample_out_of_time_range=add_extra_sample_out_of_time_range)\n",
    "response = client.GetAggregatedChannelData(request)\n",
    "\n",
    "# Visualization\n",
    "nLabel = 20  # how many datetime labels should be displayed on the x axis\n",
    "data = response.aggregated_channels[0].float_values.avg_values\n",
    "xlabel = [convert_timestamp_to_datetime(e/1e6)[:-8] for e in response.timestamps]\n",
    "xticks = list(range(len(xlabel)))\n",
    "xticks = xticks[::max(1,len(xticks)//nLabel)]  # show only some of the time points\n",
    "xlabel = xlabel[::max(1,len(xlabel)//nLabel)]  # show only some of the time points\n",
    "plt.figure(figsize=(22,2))\n",
    "plt.plot(data)\n",
    "plt.xticks(xticks, xlabel, rotation=90)\n",
    "plt.show()\n",
    "plt.close()"
   ]
  },
  {
   "cell_type": "markdown",
   "metadata": {},
   "source": [
    "##### GetHdTimePeriodStoreSchema\n",
    "Retrieve information about the time period store (like column names)."
   ]
  },
  {
   "cell_type": "code",
   "execution_count": null,
   "metadata": {},
   "outputs": [],
   "source": [
    "# Parametrization\n",
    "hd_store_name = 'ibahd-api_Backup'  # HD store for getting channel information\n",
    "time_period_store_name = 'TP_Store_1'  # Time Period store name\n",
    "include_standard_fields = True  # if standard fields should be included in addition to the user defined info fields\n",
    "\n",
    "# API call\n",
    "request = ibahd_api_pb2.GetHdTimePeriodStoreSchemaRequest(hd_store_name=hd_store_name,\n",
    "                                                          time_period_store_name=time_period_store_name,\n",
    "                                                          include_standard_fields=include_standard_fields)\n",
    "response = client.GetHdTimePeriodStoreSchema(request)\n",
    "\n",
    "# Visualization\n",
    "print(f'Standard fields:\\n{[e.field_name for e in response.info_field_definitions if e.field_name[0] == \"_\"]}')\n",
    "print(f'User defined info fields:\\n{[e.field_name for e in response.info_field_definitions if e.field_name == e.display_name]}')"
   ]
  },
  {
   "cell_type": "markdown",
   "metadata": {},
   "source": [
    "##### GetHdTimePeriodData\n",
    "Retrieve time periods from the time period store.\n",
    "For visualization purposes, the start and end time of the time periods is used with GetRawChannelData (or GetAggregatedChannelData) to display the time period data."
   ]
  },
  {
   "cell_type": "code",
   "execution_count": null,
   "metadata": {},
   "outputs": [],
   "source": [
    "import numpy as np\n",
    "from tabulate import tabulate\n",
    "import matplotlib.pyplot as plt\n",
    "# Helper functions to convert datetime string into unix timestamp (float) and vice versa\n",
    "from ibahd_api.utils import convert_datetime_to_timestamp, convert_timestamp_to_datetime\n",
    "\n",
    "# Parametrization\n",
    "hd_store_name = 'ibahd-api_Backup'  # HD store for getting channel information\n",
    "time_period_store_name = 'TP_Store_1'  # time period store name to retrieve time periods from\n",
    "time_range_from = convert_datetime_to_timestamp('2025-7-2 15:30:0.0')  # start point in time for data retrieval (UNIX time in ms)\n",
    "time_range_to = convert_datetime_to_timestamp('2025-7-2 15:45:0.0')  # end point in time for data retrieval (UNIX time in ms)\n",
    "_show_columns = ['Counter_Sinus']\n",
    "filter = ibahd_api_pb2.ColumnFilter(info_field_names=_show_columns)  # defines which of the user created info fields should be returned (standard fields always included)\n",
    "query_mode = ibahd_api_pb2.QueryMode(is_start_time_in_time_range=True,\n",
    "                                     is_end_time_in_time_range=False,\n",
    "                                     include_open=False,\n",
    "                                     column_filter_active=True)  # Query mode to define if start time and end time is included in query time range or not and if below defined filter should be applied\n",
    "max_sample_count_per_message = 100  # number of datapoints per message\n",
    "\n",
    "# API call\n",
    "request = ibahd_api_pb2.GetHdTimePeriodDataRequest(hd_store_name=hd_store_name,\n",
    "                                                   time_period_store_name=time_period_store_name,\n",
    "                                                   time_range_from=int(time_range_from*1e6),\n",
    "                                                   time_range_to=int(time_range_to*1e6),\n",
    "                                                   query_mode=query_mode,\n",
    "                                                   filter=filter,\n",
    "                                                   max_sample_count_per_message=max_sample_count_per_message)\n",
    "response = client.GetHdTimePeriodData(request)\n",
    "\n",
    "# Visualization\n",
    "time_periods = [e for chunk in response for e in chunk.time_period_data][::-1]  # get all segments from all retrieved packages in response (flattened)\n",
    "\n",
    "# Show TimePeriod informations as table\n",
    "table = [(e.id, e.name, convert_timestamp_to_datetime(e.start_time/1e6), convert_timestamp_to_datetime(e.end_time/1e6), e.stop_trigger, e.metadata_id, e.double_fields[0].value) for e in time_periods]\n",
    "print(tabulate(table, headers=['ID','Name','StartTime','EndTime','StopTrigger','MetaDataID',time_periods[0].double_fields[0].name]))\n",
    "\n",
    "# Get the corresponding data for the retrieved time periods by using GetRawChannelData (alternative: GetAggregatedChannelData) and plot them\n",
    "# For detailed explanation see the cells above\n",
    "def put_data_together(start_time, res):  # put multiple data packages (gRPC messages) together and extract the step size\n",
    "    first_msg = next(res)\n",
    "    first_vals, step = list(first_msg.float_values), first_msg.step\n",
    "    vals = list(zip(first_vals, range(start_time, start_time+len(first_vals)*step, step)))\n",
    "    for chunk in res:\n",
    "        cur_start_time = start_time + (len(vals)+1) * step\n",
    "        cur_vals = chunk.float_values\n",
    "        vals.extend(zip(cur_vals, range(cur_start_time, cur_start_time+len(cur_vals)*step, step)))\n",
    "    return vals\n",
    "\n",
    "xticks = []\n",
    "data_combined = []\n",
    "time_periods = time_periods[:10]  # show only first 10 time periods\n",
    "for tp in time_periods:\n",
    "    request = ibahd_api_pb2.GetRawChannelDataRequest(time_range_from=tp.start_time,\n",
    "                                                     time_range_to=tp.end_time,\n",
    "                                                     channel_ids=['ibahd-api_Backup\\\\[0:0]'],\n",
    "                                                     max_sample_count_per_message=10000,\n",
    "                                                     add_extra_sample_out_of_time_range=False)\n",
    "    response = client.GetRawChannelData(request)\n",
    "    values = put_data_together(tp.start_time, response)\n",
    "    data_combined.extend(values)\n",
    "    xticks.extend([tp.start_time, tp.end_time])\n",
    "\n",
    "plt.figure(figsize=(22,2))\n",
    "y, x = zip(*data_combined)\n",
    "plt.scatter(x, y, s=0.8)\n",
    "for xc in xticks:\n",
    "    plt.axvline(x=xc, linestyle='dotted')\n",
    "xlabel = [convert_timestamp_to_datetime(e/1e6)[:-8] for e in xticks]\n",
    "plt.xticks(xticks, xlabel, rotation=90)\n",
    "plt.show()"
   ]
  },
  {
   "cell_type": "code",
   "execution_count": null,
   "metadata": {},
   "outputs": [],
   "source": [
    "# ------------------------------------------------------------\n",
    "# more functions will be added in the future..."
   ]
  },
  {
   "cell_type": "code",
   "execution_count": null,
   "metadata": {},
   "outputs": [],
   "source": [
    "# Clean channel shutdown\n",
    "channel.close()"
   ]
  }
 ],
 "metadata": {
  "kernelspec": {
   "display_name": "pdmai_env312",
   "language": "python",
   "name": "python3"
  },
  "language_info": {
   "codemirror_mode": {
    "name": "ipython",
    "version": 3
   },
   "file_extension": ".py",
   "mimetype": "text/x-python",
   "name": "python",
   "nbconvert_exporter": "python",
   "pygments_lexer": "ipython3",
   "version": "3.12.9"
  }
 },
 "nbformat": 4,
 "nbformat_minor": 2
}
